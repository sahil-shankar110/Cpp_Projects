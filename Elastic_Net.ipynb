{
  "nbformat": 4,
  "nbformat_minor": 0,
  "metadata": {
    "colab": {
      "provenance": [],
      "authorship_tag": "ABX9TyMdJlQd5JRZ+TUMdFcDf+c7",
      "include_colab_link": true
    },
    "kernelspec": {
      "name": "python3",
      "display_name": "Python 3"
    },
    "language_info": {
      "name": "python"
    }
  },
  "cells": [
    {
      "cell_type": "markdown",
      "metadata": {
        "id": "view-in-github",
        "colab_type": "text"
      },
      "source": [
        "<a href=\"https://colab.research.google.com/github/sahil-shankar110/Cpp_Projects/blob/main/Elastic_Net.ipynb\" target=\"_parent\"><img src=\"https://colab.research.google.com/assets/colab-badge.svg\" alt=\"Open In Colab\"/></a>"
      ]
    },
    {
      "cell_type": "code",
      "execution_count": null,
      "metadata": {
        "id": "vIleyBHza-lo"
      },
      "outputs": [],
      "source": [
        "from sklearn.datasets import load_diabetes\n",
        "from sklearn.linear_model import LinearRegression,Ridge,Lasso,ElasticNet\n",
        "from sklearn.metrics import r2_score\n",
        "from sklearn.model_selection import train_test_split"
      ]
    },
    {
      "cell_type": "code",
      "source": [
        "x,y = load_diabetes(return_X_y=True)"
      ],
      "metadata": {
        "id": "l9DpQbsAbe3_"
      },
      "execution_count": null,
      "outputs": []
    },
    {
      "cell_type": "code",
      "source": [
        "x_train,x_test,y_train,y_test = train_test_split(x,y,test_size=0.2,random_state=4)"
      ],
      "metadata": {
        "id": "ralUwRAxg88t"
      },
      "execution_count": null,
      "outputs": []
    },
    {
      "cell_type": "markdown",
      "source": [
        "#Linear Regression"
      ],
      "metadata": {
        "id": "py7-15RGjb2U"
      }
    },
    {
      "cell_type": "code",
      "source": [
        "lr = LinearRegression()"
      ],
      "metadata": {
        "id": "bfpbaeZ4hUzE"
      },
      "execution_count": null,
      "outputs": []
    },
    {
      "cell_type": "code",
      "source": [
        "lr.fit(x_train,y_train)\n",
        "y_pred = lr.predict(x_test)\n",
        "print(r2_score(y_test,y_pred))"
      ],
      "metadata": {
        "colab": {
          "base_uri": "https://localhost:8080/"
        },
        "id": "B0s09WSBhZ2q",
        "outputId": "e6afbeb7-e533-4951-d862-af6f5a4d4096"
      },
      "execution_count": null,
      "outputs": [
        {
          "output_type": "stream",
          "name": "stdout",
          "text": [
            "0.46109889928420866\n"
          ]
        }
      ]
    },
    {
      "cell_type": "markdown",
      "source": [
        "# Ridge Regression"
      ],
      "metadata": {
        "id": "cqMY4ncAjiO6"
      }
    },
    {
      "cell_type": "code",
      "source": [
        "r = Ridge(alpha=0.1)\n",
        "r.fit(x_train,y_train)\n",
        "y_pred = r.predict(x_test)\n",
        "print(r2_score(y_test,y_pred))"
      ],
      "metadata": {
        "colab": {
          "base_uri": "https://localhost:8080/"
        },
        "id": "dVW4Xy8nht10",
        "outputId": "b6dbcf93-682b-46be-ae62-3f259d305617"
      },
      "execution_count": null,
      "outputs": [
        {
          "output_type": "stream",
          "name": "stdout",
          "text": [
            "0.4693128853309805\n"
          ]
        }
      ]
    },
    {
      "cell_type": "markdown",
      "source": [
        "# Lasso Regression"
      ],
      "metadata": {
        "id": "kPyOZo5Ijmq-"
      }
    },
    {
      "cell_type": "code",
      "source": [
        "l = Lasso(alpha=0.1)\n",
        "l.fit(x_train,y_train)\n",
        "y_pred = l.predict(x_test)\n",
        "print(r2_score(y_test,y_pred))"
      ],
      "metadata": {
        "colab": {
          "base_uri": "https://localhost:8080/"
        },
        "id": "zLzwCiT1it9Q",
        "outputId": "9631f7ac-e043-41df-f5dd-efe1b7bfac53"
      },
      "execution_count": null,
      "outputs": [
        {
          "output_type": "stream",
          "name": "stdout",
          "text": [
            "0.4724963600006994\n"
          ]
        }
      ]
    },
    {
      "cell_type": "markdown",
      "source": [
        "# Elastic Net"
      ],
      "metadata": {
        "id": "TMVxSLy5jqb7"
      }
    },
    {
      "cell_type": "code",
      "source": [
        "E = ElasticNet(alpha=0.01,l1_ratio=0.9)\n",
        "E.fit(x_train,y_train)\n",
        "y_pred = E.predict(x_test)\n",
        "print(r2_score(y_test,y_pred))"
      ],
      "metadata": {
        "colab": {
          "base_uri": "https://localhost:8080/"
        },
        "id": "HWCaemANi3Cq",
        "outputId": "ab777132-d1a6-4f6a-c75f-387873401780"
      },
      "execution_count": null,
      "outputs": [
        {
          "output_type": "stream",
          "name": "stdout",
          "text": [
            "0.4565511928366148\n"
          ]
        }
      ]
    },
    {
      "cell_type": "code",
      "source": [],
      "metadata": {
        "id": "62dDyGl6jFK3"
      },
      "execution_count": null,
      "outputs": []
    }
  ]
}